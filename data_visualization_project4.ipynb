{
  "nbformat": 4,
  "nbformat_minor": 0,
  "metadata": {
    "colab": {
      "name": "data_visualization_project4.ipynb",
      "provenance": []
    },
    "kernelspec": {
      "name": "python3",
      "display_name": "Python 3"
    },
    "language_info": {
      "name": "python"
    }
  },
  "cells": [
    {
      "cell_type": "markdown",
      "source": [
        "Data Visualization\n",
        "\n",
        "## Project 4\n",
        "\n",
        "Due date: 11:59 pm, April 4, 2022\n",
        "\n",
        "**Requirements**\n",
        "\n",
        "- The best way to do this project is to open this file in Google Colab or Jupyter Notebook, enter your code in the blank cell under each question, and run it. \n",
        "\n",
        "- Each question is worth 20 points.\n",
        "\n",
        "- The data files used in this project are included in a separate Zip file. Place the data files in your current working directory. If you are not sure where your Jupyter working directory is, please read my Python Notes.\n",
        "\n",
        "- Submit two things. \n",
        "  - First, submit a text file that contains the link to your Ipynb file in Google Colab. Make sure your Ipynb file in Google Colab is shared so that anyone with the link can view. Do not put this link in public. You can also submit the Ipynb file itself in a Zip file.\n",
        "\n",
        "  - Second, include a PDF printout of your Ipynb file. Because the interactive Plotly charts may not be printed properly, it's better to take screenshots, paste them to a Word file, and then save or print to PDF. Make sure this file includes both source code and output. This will make it easier for my TA and I to check your answers. Do not submit only the source code without output or the output without the source code.\n",
        "\n",
        "  - You can put the two files in a Zip file and submit the Zip file.\n",
        "\n",
        "- Do not submit by email."
      ],
      "metadata": {
        "id": "lNI8CixrrtGh"
      }
    },
    {
      "cell_type": "markdown",
      "source": [
        "## Part 1: Create maps with Plotly\n",
        "\n",
        "You must use Plotly Express or Plotly API to create the charts. Do not use Plotly Chart Studio.\n",
        "\n",
        "1. Load election_context-2018.csv. Create a choropleth map showing the 2016 county by county senate election results in the state of Georgia. The map should show the map of Georgia and only Georgia. The map should be color coded based on the following requirements.\n",
        "\n",
        "For each county, compare the columns “demsen16”, “repsen16”, and “othersen16”.\n",
        "If “demsen16” has the highest number, color the county blue in the map.\n",
        "If “repsen16” has the highest number, color the county red in the map.\n",
        "If “othersen16” has the highest number, color the county white in the map.\n",
        "The border of each county should be black."
      ],
      "metadata": {
        "id": "F-Xz_QwAqgty"
      }
    },
    {
      "cell_type": "code",
      "source": [
        ""
      ],
      "metadata": {
        "id": "JjcM2bt5qtjP"
      },
      "execution_count": null,
      "outputs": []
    },
    {
      "cell_type": "markdown",
      "source": [
        "2. Load walmart_store_openings.csv and use Plotly to create the following map. Create a Scattergeo map that shows the location of every Walmart store opened since 2000 (including 2000) in the United States. The map must have a title and legend.\n",
        "\n",
        "The map should show the entire United States.\n",
        "If it’s a “Supercenter”, use a dark blue color to fill the marker. If it’s a “Wal-Mart”, use a light blue color."
      ],
      "metadata": {
        "id": "V6JkXf4Qqv4B"
      }
    },
    {
      "cell_type": "code",
      "source": [
        ""
      ],
      "metadata": {
        "id": "y9f7cgPmq7K4"
      },
      "execution_count": null,
      "outputs": []
    },
    {
      "cell_type": "markdown",
      "source": [
        "## Part 2 Create maps with Folium\n",
        "\n",
        "3. Use Folium to create a map visualization showing some Covid vaccination sites. You can use the included spreadsheet vaccination_sites_fulton.csv, or you can create your own list using the Covid vaccination finder at [vaccines.gov.](https://www.vaccines.gov/) Your list must have at least 16 sites.\n",
        "\n",
        "a.\tPlace markers on a base map (OpenStreetMap). Each marker represents one place based on its latitude and longitude. Each marker should be a circle filled with red color and with a black line. \n",
        "\n",
        "b.\tWhen the mouse cursor hovers over a marker, the place name and street address should be displayed in a tooltip.  "
      ],
      "metadata": {
        "id": "0vGUP0aTrGHw"
      }
    },
    {
      "cell_type": "code",
      "source": [
        ""
      ],
      "metadata": {
        "id": "krqyxTvCrT8y"
      },
      "execution_count": null,
      "outputs": []
    },
    {
      "cell_type": "markdown",
      "source": [
        "## Part 3 Create maps with Google Maps\n",
        "\n",
        "You must create a Google Cloud Platform and API key and include the API key with your project code. After the project is graded, you can delete or replace your API key.\n",
        "\n",
        "4. Use Google Maps Python Client to create a map visualization showing some Covid vaccination sites. You can use the included spreadsheet vaccination_sites_fulton.csv, or you can create your own list using the Covid vaccination finder at [vaccines.gov.](https://www.vaccines.gov/) Your list must have at least 16 sites.\n",
        "\n",
        "a. Place markers (pins) on a Google Map. Each marker represents one place based on its address. Each pin should have a different label, such as A, B, C, etc.\n",
        "\n",
        "b. Display a list of labels and their corresponding names and addresses. For example,\n",
        "\"A: 1st Care Management, 1120 Hope Rd, Suite 210, Sandy Springs, GA 30350\"\n",
        "\n",
        "(My lecture notes have some similiar examples.)"
      ],
      "metadata": {
        "id": "w8uNg3i7rdcI"
      }
    },
    {
      "cell_type": "code",
      "source": [
        ""
      ],
      "metadata": {
        "id": "Ojyv3AbvwpD4"
      },
      "execution_count": null,
      "outputs": []
    },
    {
      "cell_type": "markdown",
      "source": [
        "5. Use Google Maps API to display the directions from \"25 Park Place NE, Atlanta, GA 30303\" to one of the Covid vaccination sites \"455 Lee Street, Suite 200, Atlanta, GA 30310\". The transportation mode is Transit.\n",
        "\n",
        "Display the directions in text and also draw the lines on a Google Map. Show the destination as a blue pin on the map."
      ],
      "metadata": {
        "id": "JAxEj7N-tQRQ"
      }
    },
    {
      "cell_type": "code",
      "source": [
        ""
      ],
      "metadata": {
        "id": "NqZ5zIrowy9X"
      },
      "execution_count": null,
      "outputs": []
    }
  ]
}